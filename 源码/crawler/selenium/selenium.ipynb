{
 "cells": [
  {
   "cell_type": "code",
   "execution_count": 19,
   "metadata": {
    "collapsed": true,
    "pycharm": {
     "is_executing": false
    }
   },
   "outputs": [],
   "source": [
    "from selenium import webdriver\n",
    "\n",
    "# 要想调用键盘按键操作需要引入keys包\n",
    "from selenium.webdriver.common.keys import Keys"
   ]
  },
  {
   "cell_type": "markdown",
   "source": [
    "**Selenium**\n",
    "\n",
    "Selenium 可以直接运行在浏览器上，它支持所有主流的浏览器（包括PhantomJS这些无界面的浏览器）。\n",
    "\n",
    "Selenium 可以根据我们的指令，让浏览器自动加载页面，获取需要的数据，甚至页面截屏，或者判断网站上某些动作是否发生。\n",
    "\n",
    "Selenium 自己不带浏览器，不支持浏览器的功能，它需要与第三方浏览器结合在一起才能使用。\n",
    "但是我们有时候需要让它内嵌在代码中运行，所以我们可以用一个叫 PhantomJS 的工具代替真实的浏览器。"
   ],
   "metadata": {
    "collapsed": false
   }
  },
  {
   "cell_type": "markdown",
   "source": [
    "**PhantomJS**\n",
    "\n",
    "PhantomJS 是一个基于Webkit的“无界面”(headless)浏览器，它会把网站加载到内存并执行页面上的 JavaScript，\n",
    "因为不会展示图形界面，所以运行起来比完整的浏览器要高效。\n",
    "\n",
    "如果我们把 Selenium 和 PhantomJS 结合在一起，就可以运行一个非常强大的网络爬虫了，\n",
    "这个爬虫可以处理 JavaScrip、Cookie、headers，以及任何我们真实用户需要做的事情。\n",
    "\n",
    "安装过程：\n",
    "\n",
    "    1、官方网站http://phantomjs.org/download.html 下载\n",
    "    2、配置环境变量\n",
    "    3、将exe文件复制到python安装目录下"
   ],
   "metadata": {
    "collapsed": false
   }
  },
  {
   "cell_type": "markdown",
   "source": [
    "**WebDriver**\n",
    "\n",
    "Selenium 库里有个叫 WebDriver 的 API。WebDriver 有点儿像可以加载网站的浏览器，\n",
    "\n",
    "但是它也可以像 BeautifulSoup 或者其他 Selector 对象一样用来查找页面元素，\n",
    "与页面上的元素进行交互 (发送文本、点击等)，以及执行其他动作来运行网络爬虫。如下例："
   ],
   "metadata": {
    "collapsed": false,
    "pycharm": {
     "name": "#%% md\n"
    }
   }
  },
  {
   "cell_type": "code",
   "execution_count": 10,
   "outputs": [
    {
     "name": "stdout",
     "text": [
      "新闻hao123地图视频贴吧学术更多\n抗击肺炎设置登录\n百度热榜\n换一换\n1黄晓明端水大师\n4仝卓继父被撤职\n2下月起个人存取10万以上或须登记\n5宁静 我几十年白干了\n3北京小学低年级复学延期\n6李文亮妻子今日在武汉生下男婴\n设为首页关于百度About Baidu百度营销使用百度前必读意见反馈帮助中心\n百度一下，你就知道\n"
     ],
     "output_type": "stream"
    },
    {
     "data": {
      "text/plain": "True"
     },
     "metadata": {},
     "output_type": "execute_result",
     "execution_count": 10
    }
   ],
   "source": [
    "# 调用环境变量指定的PhantomJS浏览器创建浏览器对象\n",
    "driver = webdriver.PhantomJS()\n",
    "# 如果没有在环境变量指定PhantomJS位置\n",
    "# driver = webdriver.PhantomJS(executable_path=\"./phantomjs\"))\n",
    "\n",
    "# get方法会一直等到页面被完全加载，然后才会继续程序，通常测试会在这里选择 time.sleep(2)\n",
    "driver.get(\"http://www.baidu.com/\")\n",
    "data = driver.find_element_by_id(\"wrapper\").text\n",
    "\n",
    "# 打印数据内容\n",
    "print(data)\n",
    "\n",
    "print(driver.title)\n",
    "\n",
    "# 生成当前页面快照并保存\n",
    "driver.save_screenshot(\"baidu.png\")"
   ],
   "metadata": {
    "collapsed": false,
    "pycharm": {
     "name": "#%%\n",
     "is_executing": false
    }
   }
  },
  {
   "cell_type": "markdown",
   "source": [
    "关于元素的选取，有如下的API 单个元素选取\n",
    "\n",
    "    find_element_by_id\n",
    "    find_elements_by_name\n",
    "    find_elements_by_xpath\n",
    "    find_elements_by_link_text\n",
    "    find_elements_by_partial_link_text\n",
    "    find_elements_by_tag_name\n",
    "    find_elements_by_class_name\n",
    "    find_elements_by_css_selector"
   ],
   "metadata": {
    "collapsed": false,
    "pycharm": {
     "name": "#%% md\n"
    }
   }
  },
  {
   "cell_type": "code",
   "execution_count": 18,
   "outputs": [
    {
     "data": {
      "text/plain": "True"
     },
     "metadata": {},
     "output_type": "execute_result",
     "execution_count": 18
    }
   ],
   "source": [
    "# 百度搜索苹果，并截图\n",
    "\n",
    "driver = webdriver.PhantomJS()\n",
    "driver.get(\"http://www.baidu.com/\")\n",
    "\n",
    "# id=\"kw\"是百度搜索输入框，输入字符串\"苹果\n",
    "driver.find_element_by_id(\"kw\").send_keys(\"苹果\")\n",
    "\n",
    "# id=\"su\"是百度搜索按钮，click() 是模拟点击\n",
    "#driver.find_element_by_id(\"su\").click()\n",
    "\n",
    "# 模拟Enter回车键\n",
    "driver.find_element_by_id(\"su\").send_keys(Keys.RETURN)\n",
    "\n",
    "# 清除输入框内容\n",
    "#driver.find_element_by_id(\"kw\").clear()\n",
    "\n",
    "driver.save_screenshot(\"苹果.png\")\n",
    "\n",
    "# 打印网页渲染后的源代码\n",
    "#print(driver.page_source)\n",
    "\n",
    "# 获取当前页面Cookie\n",
    "#print(driver.get_cookies())\n",
    "\n",
    "# 获取当前url\n",
    "print(driver.current_url)\n",
    "\n",
    "# 关闭当前页面，如果只有一个页面，会关闭浏览器\n",
    "# driver.close()\n",
    "\n",
    "# 关闭浏览器\n",
    "driver.quit()"
   ],
   "metadata": {
    "collapsed": false,
    "pycharm": {
     "name": "#%%\n",
     "is_executing": false
    }
   }
  },
  {
   "cell_type": "markdown",
   "source": [
    "存在如下两种方式查找：\n",
    "\n",
    "<div id=\"coolestWidgetEvah\">...</div>\n",
    "\n",
    "```\n",
    "element = driver.find_element_by_id(\"coolestWidgetEvah\")\n",
    "------------------------ or -------------------------\n",
    "from selenium.webdriver.common.by import By\n",
    "element = driver.find_element(by=By.ID, value=\"coolestWidgetEvah\")\n",
    "```\n",
    "【更多见文档】"
   ],
   "metadata": {
    "collapsed": false,
    "pycharm": {
     "name": "#%% md\n"
    }
   }
  },
  {
   "cell_type": "markdown",
   "source": [
    "**配置**\n",
    "\n",
    "使用PhantomJS会有如下警告：\n",
    "    \n",
    "    UserWarning: Selenium support for PhantomJS has been deprecated, please use headless versions of Chrome or Firefox instead\n",
    "\n",
    "配置谷歌浏览器(为例)：\n",
    "\n",
    "    1、下载浏览器版本对应的chromedriver.exe  https://sites.google.com/a/chromium.org/chromedriver/home\n",
    "      【edge:https://developer.microsoft.com/en-us/microsoft-edge/tools/webdriver/】\n",
    "    2、放到python安装目录下，和C:\\\\Program Files (x86)\\\\Google\\\\Chrome\\\\Application\\\\ 下\n",
    "    3、配置：\n",
    "        \n",
    "        chromedriver = \"C:\\\\Program Files (x86)\\\\Google\\\\Chrome\\\\Application\\\\chromedriver.exe\"\n",
    "        os.environ[\"webdriver.chrome.driver\"] = chromedriver\n",
    "        browser = webdriver.Chrome(chromedriver)\n",
    "\n",
    "    4、问题：\n",
    "        如果打开了浏览器，但没有跳转页面，那么就是因为没有配置上述3个步骤，或者配置成了chrome.exe"
   ],
   "metadata": {
    "collapsed": false
   }
  }
 ],
 "metadata": {
  "kernelspec": {
   "display_name": "Python 3",
   "language": "python",
   "name": "python3"
  },
  "language_info": {
   "codemirror_mode": {
    "name": "ipython",
    "version": 2
   },
   "file_extension": ".py",
   "mimetype": "text/x-python",
   "name": "python",
   "nbconvert_exporter": "python",
   "pygments_lexer": "ipython2",
   "version": "2.7.6"
  },
  "pycharm": {
   "stem_cell": {
    "cell_type": "raw",
    "source": [],
    "metadata": {
     "collapsed": false
    }
   }
  }
 },
 "nbformat": 4,
 "nbformat_minor": 0
}