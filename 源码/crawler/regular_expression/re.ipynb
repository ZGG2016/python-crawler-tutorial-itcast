{
 "cells": [
  {
   "cell_type": "code",
   "execution_count": 2,
   "metadata": {
    "collapsed": true,
    "pycharm": {
     "is_executing": false
    }
   },
   "outputs": [],
   "source": [
    "#正则表达式\n",
    "\n",
    "import re"
   ]
  },
  {
   "cell_type": "markdown",
   "source": [
    "1.import re  \n",
    "\n",
    "2.使用 compile() 函数将正则表达式的字符串形式编译为一个 Pattern 对象(创建规则)\n",
    "\n",
    "3.通过 Pattern 对象提供的一系列方法对文本进行匹配查找，获得匹配结果，一个 Match 对象。(匹配查找)\n",
    "\n",
    "    match 方法：从起始位置开始查找，一次匹配\n",
    "    search 方法：从任何位置开始查找，一次匹配\n",
    "    findall 方法：全部匹配，返回列表\n",
    "    finditer 方法：全部匹配，返回迭代器\n",
    "    split 方法：分割字符串，返回列表\n",
    "    sub 方法：替换\n",
    "\n",
    "4.使用 Match 对象提供的属性和方法获得信息，根据需要进行其他的操作"
   ],
   "metadata": {
    "collapsed": false,
    "pycharm": {
     "name": "#%% md\n"
    }
   }
  },
  {
   "cell_type": "markdown",
   "source": [
    "**match 方法**\n",
    "\n",
    "match 方法用于查找字符串的头部（也可以指定起始位置），只要找到了一个匹配的结果就返回，而不是查找所有匹配的结果。\n",
    "它的一般使用形式如下：\n",
    "\n",
    "    match(string[, pos[, endpos]])\n",
    "\n",
    "    其中，string 是待匹配的字符串，\n",
    "         pos 和 endpos 是可选参数，指定字符串的起始和终点位置，默认值分别是 0 和 len (字符串长度)。\n",
    "         因此，当你不指定 pos 和 endpos 时，match 方法默认匹配字符串的头部。\n",
    "\n",
    "当匹配成功时，返回一个 Match 对象，如果没有匹配上，则返回 None。"
   ],
   "metadata": {
    "collapsed": false
   }
  },
  {
   "cell_type": "markdown",
   "source": [
    "group([group1, …]) 方法用于获得一个或多个分组匹配的字符串，当要获得整个匹配的子串时，可直接使用 group() 或 group(0)；\n",
    "\n",
    "start([group]) 方法用于获取分组匹配的子串在整个字符串中的起始位置（子串第一个字符的索引），参数默认值为 0；\n",
    "\n",
    "end([group]) 方法用于获取分组匹配的子串在整个字符串中的结束位置（子串最后一个字符的索引+1），参数默认值为 0；\n",
    "\n",
    "span([group]) 方法返回 (start(group), end(group))。"
   ],
   "metadata": {
    "collapsed": false
   }
  },
  {
   "cell_type": "code",
   "execution_count": 4,
   "outputs": [
    {
     "name": "stdout",
     "text": [
      "<re.Match object; span=(0, 11), match='hello world'>\nhello world\n0\n11\n(0, 5)\n"
     ],
     "output_type": "stream"
    }
   ],
   "source": [
    "pattern = re.compile(r\"([a-z]+) ([a-z]+)\",re.I)\n",
    "m = pattern.match(\"hello world hello python\")\n",
    "print(m)\n",
    "print(m.group()) #  返回匹配成功的整个子串\n",
    "print(m.group(1))\n",
    "print(m.start()) # 返回匹配成功的整个子串索引开始位置\n",
    "print(m.end()) # 返回匹配成功的整个子串索引结束位置\n",
    "print(m.span(1)) #返回第一个分组匹配成功的子串的索引"
   ],
   "metadata": {
    "collapsed": false,
    "pycharm": {
     "name": "#%%\n",
     "is_executing": false
    }
   }
  },
  {
   "cell_type": "markdown",
   "source": [
    "**search 方法**\n",
    "\n",
    "search 方法用于查找字符串的任何位置，它也是一次匹配，只要找到了一个匹配的结果就返回，而不是查找所有匹配的结果，它的一般使用形式如下：\n",
    "\n",
    "    search(string[, pos[, endpos]])\n",
    "\n",
    "    其中，string 是待匹配的字符串，\n",
    "         pos 和 endpos 是可选参数，指定字符串的起始和终点位置，默认值分别是 0 和 len (字符串长度)。\n",
    "\n",
    "    当匹配成功时，返回一个 Match 对象，如果没有匹配上，则返回 None。"
   ],
   "metadata": {
    "collapsed": false
   }
  },
  {
   "cell_type": "code",
   "execution_count": null,
   "outputs": [],
   "source": [
    "# 将正则表达式编译成 Pattern 对象\n",
    "pattern = re.compile(r'\\d+')\n",
    "# 使用 search() 查找匹配的子串，不存在匹配的子串时将返回 None\n",
    "# 这里使用 match() 无法成功匹配\n",
    "m = pattern.search('hello 123456 789')\n",
    "if m:\n",
    "    # 使用 Match 获得分组信息\n",
    "    print('matching string:',m.group())\n",
    "    # 起始位置和结束位置\n",
    "    print('position:',m.span())"
   ],
   "metadata": {
    "collapsed": false,
    "pycharm": {
     "name": "#%%\n"
    }
   }
  },
  {
   "cell_type": "markdown",
   "source": [
    "**findall 方法**\n",
    "\n",
    "findall 搜索整个字符串，获得所有匹配的结果。使用形式如下：\n",
    "\n",
    "    findall(string[, pos[, endpos]])\n",
    "    \n",
    "        其中，string 是待匹配的字符串，\n",
    "             pos 和 endpos 是可选参数，指定字符串的起始和终点位置，默认值分别是 0 和 len (字符串长度)。\n",
    "    \n",
    "    findall 以列表形式返回全部能匹配的子串，如果没有匹配，则返回一个空列表。\n",
    "\n"
   ],
   "metadata": {
    "collapsed": false
   }
  },
  {
   "cell_type": "code",
   "execution_count": 5,
   "outputs": [
    {
     "name": "stdout",
     "text": [
      "['123456', '789']\n['1', '2']\n"
     ],
     "output_type": "stream"
    }
   ],
   "source": [
    "pattern = re.compile(r'\\d+')   # 查找数字\n",
    "\n",
    "result1 = pattern.findall('hello 123456 789')\n",
    "result2 = pattern.findall('one1two2three3four4', 0, 10)\n",
    "\n",
    "print(result1)\n",
    "print(result2)\n"
   ],
   "metadata": {
    "collapsed": false,
    "pycharm": {
     "name": "#%%\n",
     "is_executing": false
    }
   }
  },
  {
   "cell_type": "markdown",
   "source": [
    "**split 方法**\n",
    "\n",
    "split 方法按照能够匹配的子串将字符串分割后返回列表，它的使用形式如下：\n",
    "\n",
    "    split(string[, maxsplit])\n",
    "    \n",
    "    其中，maxsplit 用于指定最大分割次数，不指定将全部分割。"
   ],
   "metadata": {
    "collapsed": false
   }
  },
  {
   "cell_type": "code",
   "execution_count": 8,
   "outputs": [
    {
     "name": "stdout",
     "text": [
      "['a', 'b', 'c', 'd']\n"
     ],
     "output_type": "stream"
    }
   ],
   "source": [
    "p = re.compile(r'[\\s\\d\\\\,]+') #分隔符\n",
    "print(p.split('a,b c   d'))"
   ],
   "metadata": {
    "collapsed": false,
    "pycharm": {
     "name": "#%%\n",
     "is_executing": false
    }
   }
  },
  {
   "cell_type": "markdown",
   "source": [
    "**sub 方法**\n",
    "\n",
    "sub 方法用于替换。它的使用形式如下：\n",
    "\n",
    "    sub(repl, string[, count])\n",
    "\n",
    "    其中，repl 可以是字符串也可以是一个函数：\n",
    "\n",
    "            如果 repl 是字符串，则会使用 repl 去替换字符串每一个匹配的子串，\n",
    "            并返回替换后的字符串，另外，repl 还可以使用 id 的形式来引用分组，但不能使用编号 0；\n",
    "\n",
    "            如果 repl 是函数，这个方法应当只接受一个参数（Match 对象），\n",
    "            并返回一个字符串用于替换（返回的字符串中不能再引用分组）。\n",
    "\n",
    "        count 用于指定最多替换次数，不指定时全部替换\n",
    "\n"
   ],
   "metadata": {
    "collapsed": false
   }
  },
  {
   "cell_type": "code",
   "execution_count": null,
   "outputs": [],
   "source": [
    "p = re.compile(r'(\\w+) (\\w+)') # \\w = [A-Za-z0-9]\n",
    "s = 'hello 123, hello 456'\n",
    "\n",
    "print(p.sub(r'hello world', s))  # 使用 'hello world' 替换 'hello 123' 和 'hello 456'\n",
    "print(p.sub(r'\\2 \\1', s)      )  # 引用分组\n",
    "\n",
    "def func(m):\n",
    "    return 'hi' + ' ' + m.group(2)\n",
    "\n",
    "print(p.sub(func, s))\n",
    "print(p.sub(func, s, 1) )        # 最多替换一次"
   ],
   "metadata": {
    "collapsed": false,
    "pycharm": {
     "name": "#%%\n"
    }
   }
  },
  {
   "cell_type": "markdown",
   "source": [
    "**匹配中文**\n",
    "\n",
    "在某些情况下，我们想匹配文本中的汉字，有一点需要注意的是，中文的 unicode 编码范围 主要在 [u4e00-u9fa5]，\n",
    "这里说主要是因为这个范围并不完整，比如没有包括全角（中文）标点，不过，在大部分情况下，应该是够用的。\n",
    "\n",
    "假设现在想把字符串 title = u'你好，hello，世界' 中的中文提取出来，可以这么做："
   ],
   "metadata": {
    "collapsed": false
   }
  },
  {
   "cell_type": "code",
   "execution_count": 9,
   "outputs": [
    {
     "name": "stdout",
     "text": [
      "['你好', '世界']\n"
     ],
     "output_type": "stream"
    }
   ],
   "source": [
    "title = u'你好，hello，世界'\n",
    "pattern = re.compile('[\\u4e00-\\u9fa5]+')\n",
    "result = pattern.findall(title)\n",
    "\n",
    "print(result)"
   ],
   "metadata": {
    "collapsed": false,
    "pycharm": {
     "name": "#%%\n",
     "is_executing": false
    }
   }
  },
  {
   "cell_type": "markdown",
   "source": [
    "**贪婪模式与非贪婪模式**\n",
    "\n",
    "    贪婪模式：在整个表达式匹配成功的前提下，尽可能多的匹配 ( * )；\n",
    "    非贪婪模式：在整个表达式匹配成功的前提下，尽可能少的匹配 ( ? )；\n",
    "    \n",
    "Python里数量词默认是贪婪的。\n",
    "\n",
    "    示例一 ： 源字符串：abbbc\n",
    "    \n",
    "    -使用贪婪的数量词的正则表达式 ab* ，匹配结果： abbb。\n",
    "    * 决定了尽可能多匹配 b，所以a后面所有的 b 都出现了。\n",
    "\n",
    "    -使用非贪婪的数量词的正则表达式ab*?，匹配结果： a。\n",
    "    即使前面有 *，但是 ? 决定了尽可能少匹配 b，所以没有 b。\n",
    "\n",
    "    示例二 ： 源字符串：aa<div>test1</div>bb<div>test2</div>cc\n",
    "    \n",
    "    -使用贪婪的数量词的正则表达式：<div>.*</div>\n",
    "    匹配结果：<div>test1</div>bb<div>test2</div>\n",
    "\n",
    "    这里采用的是贪婪模式。在匹配到第一个“</div>”时已经可以使整个表达式匹配成功，但是由于采用的是贪婪模式，\n",
    "    所以仍然要向右尝试匹配，查看是否还有更长的可以成功匹配的子串。匹配到第二个“</div>”后，向右再没有可以成功匹配的子串，\n",
    "    匹配结束，匹配结果为“<div>test1</div>bb<div>test2</div>”\n",
    "\n",
    "    -使用非贪婪的数量词的正则表达式：<div>.*?</div>\n",
    "    匹配结果：<div>test1</div>\n",
    "\n",
    "    正则表达式二采用的是非贪婪模式，在匹配到第一个“</div>”时使整个表达式匹配成功，由于采用的是非贪婪模式，\n",
    "    所以结束匹配，不再向右尝试，匹配结果为“<div>test1</div>”。"
   ],
   "metadata": {
    "collapsed": false
   }
  }
 ],
 "metadata": {
  "kernelspec": {
   "display_name": "Python 3",
   "language": "python",
   "name": "python3"
  },
  "language_info": {
   "codemirror_mode": {
    "name": "ipython",
    "version": 2
   },
   "file_extension": ".py",
   "mimetype": "text/x-python",
   "name": "python",
   "nbconvert_exporter": "python",
   "pygments_lexer": "ipython2",
   "version": "2.7.6"
  },
  "pycharm": {
   "stem_cell": {
    "cell_type": "raw",
    "source": [],
    "metadata": {
     "collapsed": false
    }
   }
  }
 },
 "nbformat": 4,
 "nbformat_minor": 0
}