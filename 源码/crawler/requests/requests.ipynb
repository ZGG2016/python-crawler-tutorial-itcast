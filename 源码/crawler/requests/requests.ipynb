{
 "cells": [
  {
   "cell_type": "code",
   "execution_count": 2,
   "metadata": {
    "collapsed": true,
    "pycharm": {
     "name": "#%%\n",
     "is_executing": false
    }
   },
   "outputs": [],
   "source": [
    "import requests"
   ]
  },
  {
   "cell_type": "markdown",
   "source": [],
   "metadata": {
    "collapsed": false
   }
  },
  {
   "cell_type": "code",
   "execution_count": 5,
   "outputs": [],
   "source": [
    "# 发get请求\n",
    "response = requests.get(\"http://www.baidu.com/\")\n",
    "\n",
    "#response2 = requests.Request(\"get\",\"http://www.baidu.com/\")"
   ],
   "metadata": {
    "collapsed": false,
    "pycharm": {
     "name": "#%%\n",
     "is_executing": false
    }
   }
  },
  {
   "cell_type": "code",
   "execution_count": 14,
   "outputs": [],
   "source": [
    "# 添加表头信息和参数\n",
    "kw = {\"wd\":\"苹果\"}\n",
    "url = \"http://www.baidu.com/s?\"\n",
    "headers = {\n",
    "        \"User-Agent\":\"Mozilla/5.0 (Windows NT 10.0; Win64; x64) AppleWebKit/537.36 (KHTML, like Gecko) Chrome/83.0.4103.61 Safari/537.36 Edg/83.0.478.44\"\n",
    "}\n",
    "response2 = requests.get(url, params = kw, headers = headers)\n",
    "# print(response2.content) # in bytes\n",
    "# print(response2.encoding)\n",
    "# print(response2.text)  # in unicode\n",
    "# print(response2.status_code)\n",
    "print(response2.url)"
   ],
   "metadata": {
    "collapsed": false,
    "pycharm": {
     "name": "#%%\n",
     "is_executing": false
    }
   }
  },
  {
   "cell_type": "code",
   "execution_count": 17,
   "outputs": [],
   "source": [
    "# 发post请求\n",
    "url = \"http://fanyi.youdao.com/translate?smartresult=dict&smartresult=rule\"\n",
    "\n",
    "formdata = {\n",
    "    \"i\":\"apple\",\n",
    "    \"from\":\"AUTO\",\n",
    "    \"doctype\":\"json\",\n",
    "    \"keyfrom\":\"fanyi.web\",\n",
    "    \"action\":\"FY_BY_REALTlME\"}\n",
    "\n",
    "headers = {\n",
    "    \"Accept\": \"application/json, text/javascript, */*; q=0.01\",\n",
    "    \"X-Requested-With\": \"XMLHttpRequest\",\n",
    "    \"User-Agent\":\"Mozilla/5.0 (Windows NT 10.0; Win64; x64) AppleWebKit/537.36 (KHTML, like Gecko) Chrome/83.0.4103.61 Safari/537.36 Edg/83.0.478.44\",\n",
    "    \"Content-Type\": \"application/x-www-form-urlencoded; charset=UTF-8\",\n",
    "    \"Accept-Language\": \"zh-CN,zh;q=0.9,en;q=0.8,en-GB;q=0.7,en-US;q=0.6\"\n",
    "    }\n",
    "\n",
    "response3 = requests.post(url,data = formdata,headers = headers)\n",
    "print(response3.text)\n",
    "print(response3.json())  #显示json格式"
   ],
   "metadata": {
    "collapsed": false,
    "pycharm": {
     "name": "#%%\n",
     "is_executing": false
    }
   }
  },
  {
   "cell_type": "code",
   "execution_count": 20,
   "outputs": [],
   "source": [
    "# 添加代理\n",
    "proxy = {\"http\":\"122.136.212.132:53281\"}\n",
    "\n",
    "response4 = requests.post(\"http://www.baidu.com/\",proxies = proxy)\n",
    "print(response4.text)"
   ],
   "metadata": {
    "collapsed": false,
    "pycharm": {
     "name": "#%%\n",
     "is_executing": false
    }
   }
  },
  {
   "cell_type": "code",
   "execution_count": null,
   "outputs": [],
   "source": [
    "# 私密代理\n",
    "\n",
    "import requests\n",
    "\n",
    "# 如果代理需要使用HTTP Basic Auth，可以使用下面这种格式：\n",
    "proxy = { \"http\": \"mr_mao_hacker:sffqry9r@61.158.163.130:16816\" }\n",
    "\n",
    "response5 = requests.get(\"http://www.baidu.com\", proxies = proxy)\n",
    "print(response5.text)\n"
   ],
   "metadata": {
    "collapsed": false,
    "pycharm": {
     "name": "#%%\n"
    }
   }
  },
  {
   "cell_type": "code",
   "execution_count": null,
   "outputs": [],
   "source": [
    "# web客户端验证:如果是Web客户端验证，需要添加 auth = (账户名, 密码)\n",
    "\n",
    "import requests\n",
    "\n",
    "auth=('test', '123456')\n",
    "\n",
    "response6 = requests.get('http://192.168.199.107', auth = auth)\n",
    "print(response6.text)\n"
   ],
   "metadata": {
    "collapsed": false,
    "pycharm": {
     "name": "#%%\n"
    }
   }
  },
  {
   "cell_type": "code",
   "execution_count": 21,
   "outputs": [
    {
     "name": "stdout",
     "text": [
      "<RequestsCookieJar[<Cookie BDORZ=27315 for .baidu.com/>]>\n<RequestsCookieJar[<Cookie BDORZ=27315 for .baidu.com/>]>\n"
     ],
     "output_type": "stream"
    }
   ],
   "source": [
    "#cookie\n",
    "\n",
    "repsonse7 = requests.get(\"http://www.baidu.com\")\n",
    "cjar = repsonse7.cookies\n",
    "cookiedict = requests.utils.add_dict_to_cookiejar(cjar,{})\n",
    "print(cjar)\n",
    "print(cookiedict)"
   ],
   "metadata": {
    "collapsed": false,
    "pycharm": {
     "name": "#%%\n",
     "is_executing": false
    }
   }
  },
  {
   "cell_type": "code",
   "execution_count": null,
   "outputs": [],
   "source": [
    "#实现人人网登录\n",
    "import requests\n",
    "\n",
    "# 1. 创建session对象，可以保存Cookie值\n",
    "ssion = requests.sessions.Session()\n",
    "\n",
    "# 2. 处理 headers\n",
    "headers = {\"User-Agent\": \"Mozilla/5.0 (Windows NT 10.0; Win64; x64) AppleWebKit/537.36 (KHTML, like Gecko) Chrome/54.0.2840.99 Safari/537.36\"}\n",
    "\n",
    "# 3. 需要登录的用户名和密码\n",
    "data = {\"email\":\"mr_mao_hacker@163.com\", \"password\":\"alarmchime\"}  \n",
    "\n",
    "# 4. 发送附带用户名和密码的请求，并获取登录后的Cookie值，保存在ssion里\n",
    "ssion.post(\"http://www.renren.com/PLogin.do\", data = data)\n",
    "\n",
    "# 5. ssion包含用户登录后的Cookie值，可以直接访问那些登录后才可以访问的页面\n",
    "response8 = ssion.get(\"http://www.renren.com/410043129/profile\")\n",
    "\n",
    "# 6. 打印响应内容\n",
    "print(response8.text)"
   ],
   "metadata": {
    "collapsed": false,
    "pycharm": {
     "name": "#%%\n"
    }
   }
  },
  {
   "cell_type": "code",
   "execution_count": null,
   "outputs": [],
   "source": [
    "# 处理HTTPS请求 SSL证书验证\n",
    "#要想检查某个主机的SSL证书，你可以使用 verify 参数（也可以不写）\n",
    "\n",
    "response9 = requests.get(\"https://www.baidu.com/\", verify=True)\n",
    "# 也可以省略不写\n",
    "# response = requests.get(\"https://www.baidu.com/\")\n",
    "print(response9.text)"
   ],
   "metadata": {
    "collapsed": false,
    "pycharm": {
     "name": "#%%\n"
    }
   }
  }
 ],
 "metadata": {
  "kernelspec": {
   "display_name": "Python 3",
   "language": "python",
   "name": "python3"
  },
  "language_info": {
   "codemirror_mode": {
    "name": "ipython",
    "version": 2
   },
   "file_extension": ".py",
   "mimetype": "text/x-python",
   "name": "python",
   "nbconvert_exporter": "python",
   "pygments_lexer": "ipython2",
   "version": "2.7.6"
  },
  "pycharm": {
   "stem_cell": {
    "cell_type": "raw",
    "source": [],
    "metadata": {
     "collapsed": false
    }
   }
  }
 },
 "nbformat": 4,
 "nbformat_minor": 0
}