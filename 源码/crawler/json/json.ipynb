{
 "cells": [
  {
   "cell_type": "code",
   "execution_count": 8,
   "metadata": {
    "collapsed": true,
    "pycharm": {
     "name": "#%%\n",
     "is_executing": false
    }
   },
   "outputs": [],
   "source": [
    "import json,jsonpath"
   ]
  },
  {
   "cell_type": "markdown",
   "source": [
    "**json**\n",
    "\n",
    "JSON(JavaScript Object Notation) 是一种轻量级的数据交换格式，它使得人们很容易的进行阅读和编写。\n",
    "同时也方便了机器进行解析和生成。适用于进行数据交互的场景，比如网站前台与后台之间的数据交互。\n",
    "\n",
    "json简单说就是javascript中的对象和数组，通过这两种结构可以表示各种复杂的结构\n",
    "\n",
    "    对象：对象在js中表示为{ }括起来的内容，数据结构为 { key：value, key：value, ... }的键值对的结构，\n",
    "         在面向对象的语言中，key为对象的属性，value为对应的属性值，所以很容易理解，取值方法为 对象.key 获取属性值，\n",
    "         这个属性值的类型可以是数字、字符串、数组、对象这几种。\n",
    "    \n",
    "    数组：数组在js中是中括号[ ]括起来的内容，数据结构为 [\"Python\", \"javascript\", \"C++\", ...]，取值方式和所有语言中一样，\n",
    "         使用索引获取，字段值的类型可以是 数字、字符串、数组、对象几种。\n",
    "         "
   ],
   "metadata": {
    "collapsed": false
   }
  },
  {
   "cell_type": "markdown",
   "source": [
    "**json模块**\n",
    "\n",
    "提供了四个功能：dumps、dump、loads、load，用于字符串 和 python数据类型间进行转换"
   ],
   "metadata": {
    "collapsed": false
   }
  },
  {
   "cell_type": "code",
   "execution_count": 9,
   "outputs": [],
   "source": [
    "# loads ：把 Json格式字符串  解码转换成  Python对象\n",
    "\n",
    "strList = '[1, 2, 3, 4]'\n",
    "strDict = '{\"city\": \"北京\", \"name\": \"大猫\"}'\n",
    "\n",
    "print(json.loads(strList)) \n",
    "print(json.loads(strDict))"
   ],
   "metadata": {
    "collapsed": false,
    "pycharm": {
     "name": "#%%\n",
     "is_executing": false
    }
   }
  },
  {
   "cell_type": "code",
   "execution_count": 14,
   "outputs": [],
   "source": [
    "# dumps : python类型转化为json字符串，返回一个str对象\n",
    "import chardet\n",
    "listStr = [1, 2, 3, 4]\n",
    "tupStr = (1,2,3,4)\n",
    "dictStr = {\"city\": \"北京\", \"name\": \"大猫\"}\n",
    "\n",
    "print(json.dumps(listStr))\n",
    "print(json.dumps(tupStr))\n",
    "print(json.dumps(dictStr)) #json.dumps() 序列化时默认使用的ascii编码\n",
    "\n",
    "#添加参数 ensure_ascii=False 禁用ascii编码，按utf-8编码\n",
    "print(json.dumps(dictStr,ensure_ascii=False)) "
   ],
   "metadata": {
    "collapsed": false,
    "pycharm": {
     "name": "#%%\n",
     "is_executing": false
    }
   }
  },
  {
   "cell_type": "code",
   "execution_count": 5,
   "outputs": [],
   "source": [
    "# dump ：将Python内置类型序列化为json对象后写入文件\n",
    "dictStr = {\"city\": \"北京\", \"name\": \"大猫\"}\n",
    "\n",
    "json.dump(dictStr,open(\"test.json\",\"w\"),ensure_ascii=False)\n"
   ],
   "metadata": {
    "collapsed": false,
    "pycharm": {
     "name": "#%%\n",
     "is_executing": false
    }
   }
  },
  {
   "cell_type": "code",
   "execution_count": 6,
   "outputs": [
    {
     "name": "stdout",
     "text": [
      "{'city': '北京', 'name': '大猫'}\n"
     ],
     "output_type": "stream"
    }
   ],
   "source": [
    "# load : 读取文件中json形式的字符串元素 转化成python类型\n",
    "\n",
    "rlt = json.load(open(\"test.json\",\"r\"))\n",
    "print(rlt)"
   ],
   "metadata": {
    "collapsed": false,
    "pycharm": {
     "name": "#%%\n",
     "is_executing": false
    }
   }
  },
  {
   "cell_type": "markdown",
   "source": [
    "**jsonpath**\n",
    "\n",
    "JsonPath 是一种信息抽取类库，是从JSON文档中抽取指定信息的工具\n",
    "\n",
    "![json](https://s1.ax1x.com/2020/06/12/tLBELj.png)"
   ],
   "metadata": {
    "collapsed": false,
    "pycharm": {
     "name": "#%% md\n"
    }
   }
  },
  {
   "cell_type": "code",
   "execution_count": 12,
   "outputs": [],
   "source": [
    "# 以拉勾网城市JSON文件 http://www.lagou.com/lbs/getAllCitySearchLabels.json 为例，获取所有城市。\n",
    "\n",
    "import requests\n",
    "\n",
    "url = \"http://www.lagou.com/lbs/getAllCitySearchLabels.json\"\n",
    "headers = {\n",
    "            \"User-Agent\": \"Mozilla/5.0 (Windows NT 10.0; Win64; x64) AppleWebKit/537.36 (KHTML, like Gecko) Chrome/83.0.4103.61 Safari/537.36 Edg/83.0.478.44\",\n",
    "        }\n",
    "html = requests.get(url,headers = headers).text\n",
    "\n",
    "unicodestr = json.loads(html)\n",
    "allcitys = jsonpath.jsonpath(unicodestr,'$..name')\n",
    "#print(allcitys)\n",
    "\n",
    "with open(\"city.json\",\"w\") as f:\n",
    "    f.write(json.dumps(allcitys,ensure_ascii=False))"
   ],
   "metadata": {
    "collapsed": false,
    "pycharm": {
     "name": "#%%\n",
     "is_executing": false
    }
   }
  },
  {
   "cell_type": "markdown",
   "source": [
    "\n",
    "json.loads() 是把 Json格式字符串解码转换成Python对象，如果在json.loads的时候出错，要注意被解码的Json字符的编码。\n",
    "\n",
    "如果传入的字符串的编码不是UTF-8的话，需要指定字符编码的参数 encoding\n",
    "\n",
    "    dataDict = json.loads(jsonStrGBK);\n",
    "\n",
    "dataJsonStr是JSON字符串，假设其编码本身是非UTF-8的话而是GBK 的，那么上述代码会导致出错，改为对应的：\n",
    "\n",
    "    dataDict = json.loads(jsonStrGBK, encoding=\"GBK\");\n",
    "  \n",
    "如果 dataJsonStr通过encoding指定了合适的编码，但是其中又包含了其他编码的字符，则需要先去将dataJsonStr转换为Unicode，\n",
    "然后再指定编码格式调用json.loads()\n",
    "\n",
    "    dataJsonStrUni = dataJsonStr.decode(\"GB2312\"); \n",
    "    dataDict = json.loads(dataJsonStrUni, encoding=\"GB2312\");\n",
    "\n",
    "\n",
    "####字符串编码转换\n",
    "\n",
    "这是中国程序员最苦逼的地方，什么乱码之类的几乎都是由汉字引起的。\n",
    "其实编码问题很好搞定，只要记住一点：\n",
    "\n",
    "    任何平台的任何编码 都能和 Unicode 互相转换\n",
    "\n",
    "UTF-8 与 GBK 互相转换，那就先把UTF-8转换成Unicode，再从Unicode转换成GBK，反之同理。\n",
    "\n",
    "\n",
    "``` python \n",
    "# 这是一个 UTF-8 编码的字符串\n",
    "utf8Str = \"你好地球\"\n",
    "\n",
    "# 1. 将 UTF-8 编码的字符串 转换成 Unicode 编码\n",
    "unicodeStr = utf8Str.decode(\"UTF-8\")\n",
    "\n",
    "# 2. 再将 Unicode 编码格式字符串 转换成 GBK 编码\n",
    "gbkData = unicodeStr.encode(\"GBK\")\n",
    "\n",
    "# 1. 再将 GBK 编码格式字符串 转化成 Unicode\n",
    "unicodeStr = gbkData.decode(\"gbk\")\n",
    "\n",
    "# 2. 再将 Unicode 编码格式字符串转换成 UTF-8\n",
    "utf8Str = unicodeStr.encode(\"UTF-8\")\n",
    "```\n",
    "\n",
    "decode的作用是将其他编码的字符串转换成 Unicode 编码\n",
    "\n",
    "encode的作用是将 Unicode 编码转换成其他编码的字符串\n",
    "\n",
    "一句话：UTF-8是对Unicode字符集进行编码的一种编码方式"
   ],
   "metadata": {
    "collapsed": false
   }
  }
 ],
 "metadata": {
  "kernelspec": {
   "display_name": "Python 3",
   "language": "python",
   "name": "python3"
  },
  "language_info": {
   "codemirror_mode": {
    "name": "ipython",
    "version": 2
   },
   "file_extension": ".py",
   "mimetype": "text/x-python",
   "name": "python",
   "nbconvert_exporter": "python",
   "pygments_lexer": "ipython2",
   "version": "2.7.6"
  },
  "pycharm": {
   "stem_cell": {
    "cell_type": "raw",
    "source": [],
    "metadata": {
     "collapsed": false
    }
   }
  }
 },
 "nbformat": 4,
 "nbformat_minor": 0
}