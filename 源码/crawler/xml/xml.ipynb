{
 "cells": [
  {
   "cell_type": "code",
   "execution_count": 1,
   "metadata": {
    "collapsed": true,
    "pycharm": {
     "is_executing": false
    }
   },
   "outputs": [],
   "source": [
    "from lxml import etree\n",
    "#pip install wheel\n",
    "#pip install lxml   "
   ]
  },
  {
   "cell_type": "code",
   "execution_count": 6,
   "outputs": [],
   "source": [
    "# 解析 HTML 代码\n",
    "text = '''\n",
    "<div>\n",
    "    <ul>\n",
    "         <li class=\"item-0\"><a href=\"link1.html\">first item</a></li>\n",
    "         <li class=\"item-1\"><a href=\"link2.html\">second item</a></li>\n",
    "         <li class=\"item-inactive\"><a href=\"link3.html\">third item</a></li>\n",
    "         <li class=\"item-1\"><a href=\"link4.html\">fourth item</a></li>\n",
    "         <li class=\"item-0\"><a href=\"link5.html\">fifth item</a> # 注意，此处缺少一个 </li> 闭合标签\n",
    "     </ul>\n",
    " </div>\n",
    "'''\n",
    "html = etree.HTML(text)\n",
    "print(etree.tostring(html))"
   ],
   "metadata": {
    "collapsed": false,
    "pycharm": {
     "name": "#%%\n",
     "is_executing": false
    }
   }
  },
  {
   "cell_type": "code",
   "execution_count": 8,
   "outputs": [],
   "source": [
    "html = etree.parse('xmltest.html')\n",
    "print(etree.tostring(html,pretty_print = True))"
   ],
   "metadata": {
    "collapsed": false,
    "pycharm": {
     "name": "#%%\n",
     "is_executing": false
    }
   }
  },
  {
   "cell_type": "code",
   "execution_count": 2,
   "outputs": [
    {
     "name": "stdout",
     "text": [
      "<class 'lxml.etree._ElementTree'>\n[<Element li at 0x252c60b02c8>, <Element li at 0x252c60b0308>, <Element li at 0x252c60b0348>, <Element li at 0x252c60b0388>, <Element li at 0x252c60b03c8>]\n<class 'list'>\n5\n<Element li at 0x252c60b02c8>\n"
     ],
     "output_type": "stream"
    }
   ],
   "source": [
    "# 获取所有的 <li> 标签\n",
    "html = etree.parse('xmltest.html')\n",
    "rlt = html.xpath('//li')\n",
    "\n",
    "print(type(html))\n",
    "print(rlt)\n",
    "print(type(rlt))\n",
    "print(len(rlt))\n",
    "print(rlt[0])"
   ],
   "metadata": {
    "collapsed": false,
    "pycharm": {
     "name": "#%%\n",
     "is_executing": false
    }
   }
  },
  {
   "cell_type": "code",
   "execution_count": 11,
   "outputs": [],
   "source": [
    "# 继续获取<li> 标签的所有 class属性\n",
    "html = etree.parse('xmltest.html')\n",
    "rlt = html.xpath('//li/@class')\n",
    "\n",
    "print(rlt)"
   ],
   "metadata": {
    "collapsed": false,
    "pycharm": {
     "name": "#%%\n",
     "is_executing": false
    }
   }
  },
  {
   "cell_type": "code",
   "execution_count": 3,
   "outputs": [
    {
     "name": "stdout",
     "text": [
      "<Element a at 0x15f107ce1c8>\n"
     ],
     "output_type": "stream"
    }
   ],
   "source": [
    "# 继续获取<li>标签下href 为 link1.html 的 <a> 标签\n",
    "\n",
    "html = etree.parse('xmltest.html')\n",
    "rlt = html.xpath('//li/a[@href=\"link1.html\"]')\n",
    "\n",
    "print(rlt)"
   ],
   "metadata": {
    "collapsed": false,
    "pycharm": {
     "name": "#%%\n",
     "is_executing": false
    }
   }
  },
  {
   "cell_type": "code",
   "execution_count": 3,
   "outputs": [
    {
     "name": "stdout",
     "text": [
      "[<Element span at 0x252c60ab188>]\n"
     ],
     "output_type": "stream"
    }
   ],
   "source": [
    "# 获取<li> 标签下的所有 <span> 标签\n",
    "html = etree.parse('xmltest.html')\n",
    "rlt = html.xpath('//li//span')\n",
    "\n",
    "print(rlt)"
   ],
   "metadata": {
    "collapsed": false,
    "pycharm": {
     "name": "#%%\n",
     "is_executing": false
    }
   }
  },
  {
   "cell_type": "code",
   "execution_count": 15,
   "outputs": [],
   "source": [
    "# 获取 <li> 标签下的<a>标签里的所有 class\n",
    "html = etree.parse('xmltest.html')\n",
    "rlt = html.xpath('//li/a//@class')\n",
    "\n",
    "print(rlt)"
   ],
   "metadata": {
    "collapsed": false,
    "pycharm": {
     "name": "#%%\n",
     "is_executing": false
    }
   }
  },
  {
   "cell_type": "code",
   "execution_count": 16,
   "outputs": [],
   "source": [
    "# 获取最后一个 <li> 的 <a> 的 href\n",
    "\n",
    "html = etree.parse('xmltest.html')\n",
    "rlt = html.xpath('//li[last()]/a//@href')\n",
    "\n",
    "print(rlt)"
   ],
   "metadata": {
    "collapsed": false,
    "pycharm": {
     "name": "#%%\n",
     "is_executing": false
    }
   }
  },
  {
   "cell_type": "code",
   "execution_count": 17,
   "outputs": [],
   "source": [
    "# 获取倒数第二个元素的内容\n",
    "html = etree.parse('xmltest.html')\n",
    "rlt = html.xpath('//li[last()-1]/a')\n",
    "\n",
    "print(rlt[0].text)\n"
   ],
   "metadata": {
    "collapsed": false,
    "pycharm": {
     "name": "#%%\n",
     "is_executing": false
    }
   }
  },
  {
   "cell_type": "code",
   "execution_count": 19,
   "outputs": [],
   "source": [
    "# 获取 class 值为 bold 的标签名\n",
    "html = etree.parse('xmltest.html')\n",
    "rlt = html.xpath('//*[@class=\"bold\"]')\n",
    "\n",
    "print(rlt[0].tag)\n"
   ],
   "metadata": {
    "collapsed": false,
    "pycharm": {
     "name": "#%%\n",
     "is_executing": false
    }
   }
  }
 ],
 "metadata": {
  "kernelspec": {
   "display_name": "Python 3",
   "language": "python",
   "name": "python3"
  },
  "language_info": {
   "codemirror_mode": {
    "name": "ipython",
    "version": 2
   },
   "file_extension": ".py",
   "mimetype": "text/x-python",
   "name": "python",
   "nbconvert_exporter": "python",
   "pygments_lexer": "ipython2",
   "version": "2.7.6"
  },
  "pycharm": {
   "stem_cell": {
    "cell_type": "raw",
    "source": [],
    "metadata": {
     "collapsed": false
    }
   }
  }
 },
 "nbformat": 4,
 "nbformat_minor": 0
}