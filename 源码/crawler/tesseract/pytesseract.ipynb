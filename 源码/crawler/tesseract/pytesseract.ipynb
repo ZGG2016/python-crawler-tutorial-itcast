{
 "cells": [
  {
   "cell_type": "code",
   "execution_count": 1,
   "metadata": {
    "collapsed": true,
    "pycharm": {
     "is_executing": false
    }
   },
   "outputs": [],
   "source": [
    "import pytesseract\n",
    "from PIL import Image \n",
    "import subprocess\n"
   ]
  },
  {
   "cell_type": "code",
   "execution_count": 2,
   "outputs": [
    {
     "name": "stdout",
     "text": [
      "TINA\nA 9 ik reat HR\n\n(08%, 268, #PREEZ)\n\n11 YUFSBEENMERNXANES\ni%\n22 GBMRERINHEEKARAEA,\nEMELL®E) fit?\n"
     ],
     "output_type": "stream"
    }
   ],
   "source": [
    "img = Image.open(\"tesseracttest.jpg\")\n",
    "img_s = pytesseract.image_to_string(img)\n",
    "print(img_s)"
   ],
   "metadata": {
    "collapsed": false,
    "pycharm": {
     "name": "#%%\n",
     "is_executing": false
    }
   }
  },
  {
   "cell_type": "code",
   "execution_count": 4,
   "outputs": [
    {
     "name": "stdout",
     "text": [
      " \n  \n  \n\nThis is some text. written in Arial, that will be rea\nTesseract Here are some symbols: !I@#$%*4&*\n\n\n"
     ],
     "output_type": "stream"
    }
   ],
   "source": [
    "def cleanFile(filePath, newFilePath): \n",
    "    image = Image.open(filePath)\n",
    "\n",
    "    # 对图片进行阈值过滤,然后保存\n",
    "    image = image.point(lambda x: 0 if x<143 else 255)     \n",
    "    image.save(newFilePath)\n",
    "\n",
    "    # 调用系统的tesseract命令对图片进行OCR识别        \n",
    "    subprocess.call([\"tesseract\", newFilePath, \"output\"])\n",
    "\n",
    "    # 打开文件读取结果\n",
    "    file = open(\"output.txt\", 'r')     \n",
    "    print(file.read()) \n",
    "    file.close()\n",
    "\n",
    "cleanFile(\"tesseracttest2.jpg\", \"tesseracttest_out.png\")\n"
   ],
   "metadata": {
    "collapsed": false,
    "pycharm": {
     "name": "#%%\n",
     "is_executing": false
    }
   }
  }
 ],
 "metadata": {
  "kernelspec": {
   "display_name": "Python 3",
   "language": "python",
   "name": "python3"
  },
  "language_info": {
   "codemirror_mode": {
    "name": "ipython",
    "version": 2
   },
   "file_extension": ".py",
   "mimetype": "text/x-python",
   "name": "python",
   "nbconvert_exporter": "python",
   "pygments_lexer": "ipython2",
   "version": "2.7.6"
  },
  "pycharm": {
   "stem_cell": {
    "cell_type": "raw",
    "source": [],
    "metadata": {
     "collapsed": false
    }
   }
  }
 },
 "nbformat": 4,
 "nbformat_minor": 0
}