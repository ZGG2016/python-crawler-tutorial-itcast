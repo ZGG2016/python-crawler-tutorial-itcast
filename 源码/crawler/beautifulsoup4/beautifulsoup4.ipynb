{
 "cells": [
  {
   "cell_type": "code",
   "execution_count": 1,
   "metadata": {
    "collapsed": true,
    "pycharm": {
     "is_executing": false,
     "name": "#%%\n"
    }
   },
   "outputs": [],
   "source": [
    "from bs4 import BeautifulSoup"
   ]
  },
  {
   "cell_type": "markdown",
   "source": [
    "Beautiful Soup 也是一个HTML/XML的解析器，主要的功能也是如何解析和提取 HTML/XML 数据，\n",
    "支持CSS选择器、Python标准库中的HTML解析器，也支持 lxml 的 XML解析器。\n",
    "\n",
    "lxml 只会局部遍历，而Beautiful Soup 是基于HTML DOM的，会载入整个文档，解析整个DOM树，因此时间和内存开销都会大很多，所以性能要低于lxml。\n",
    "\n",
    "使用 pip 安装即可：pip install beautifulsoup4\n",
    "\n",
    "抓取工具|速度|使用难度|安装难度\n",
    "---|:--:|---:|---:\n",
    "正则|最快|困难|无（内置）\n",
    "BeautifulSoup|慢|最简单|简单\n",
    "lxml|快|简|一般"
   ],
   "metadata": {
    "collapsed": false
   }
  },
  {
   "cell_type": "markdown",
   "source": [
    "**Beautiful Soup对象**\n",
    "\n",
    "Beautiful Soup将复杂HTML文档转换成一个复杂的树形结构,每个节点都是Python对象,所有对象可以归纳为4种:\n",
    "\n",
    "    Tag\n",
    "    NavigableString\n",
    "    BeautifulSoup\n",
    "    Comment"
   ],
   "metadata": {
    "collapsed": false,
    "pycharm": {
     "name": "#%% md\n"
    }
   }
  },
  {
   "cell_type": "markdown",
   "source": [
    "**Tag**\n",
    "\n",
    "通俗点讲就是 HTML 中的一个个标签，例如：\n",
    "\n",
    "    <title>The Dormouse's story</title>"
   ],
   "metadata": {
    "collapsed": false
   }
  },
  {
   "cell_type": "code",
   "execution_count": 10,
   "outputs": [],
   "source": [
    "html = \"\"\"\n",
    "<html><head><title>The Dormouse's story</title></head>\n",
    "<body>\n",
    "<p class=\"title\" name=\"dromouse\"><b>The Dormouse's story</b></p>\n",
    "<p class=\"story\">Once upon a time there were three little sisters; and their names were\n",
    "<a href=\"http://example.com/elsie\" class=\"sister\" id=\"link1\"><!-- Elsie --></a>,\n",
    "<a href=\"http://example.com/lacie\" class=\"sister\" id=\"link2\">Lacie</a> and\n",
    "<a href=\"http://example.com/tillie\" class=\"sister\" id=\"link3\">Tillie</a>;\n",
    "and they lived at the bottom of a well.</p>\n",
    "<p class=\"story\">...</p>\n",
    "\"\"\"\n",
    "#创建 Beautiful Soup 对象\n",
    "bs = BeautifulSoup(html)\n",
    "# 打开本地文件\n",
    "#bs = BeautifulSoup(open(test.html))\n",
    "\n",
    "#格式化输出 soup 对象的内容\n",
    "#print(bs.prettify())\n",
    "\n",
    "# 查找Tag，查找的是在所有内容中的第一个符合要求的标签\n",
    "print(bs.title)\n",
    "print(bs.a)\n",
    "print(type(bs.a))\n",
    "\n",
    "print(bs.name)\n",
    "\n",
    "#取p的属性\n",
    "print(bs.p.attrs)\n",
    "#取p的class属性的值\n",
    "print(bs.p.attrs['class'])\n",
    "print(bs.p.get('class'))\n",
    "#修改p的class属性的值\n",
    "bs.p.attrs['class'] = 'newClass'\n",
    "print(bs.p.get('class'))\n",
    "#删除p的class属性的值\n",
    "del bs.p.attrs['class']\n",
    "print(bs.p.attrs)"
   ],
   "metadata": {
    "collapsed": false,
    "pycharm": {
     "name": "#%%\n",
     "is_executing": false
    }
   }
  },
  {
   "cell_type": "markdown",
   "source": [
    "**NavigableString**\n",
    "\n",
    ".string:取标签内部的文字\n",
    "\n",
    "**BeautifulSoup**\n",
    "\n",
    "BeautifulSoup 对象表示的是一个文档的内容，是一个特殊的 Tag，可以分别获取它的类型，名称，以及属性\n",
    "\n",
    "**Comment**\n",
    "\n",
    "Comment 对象是一个特殊类型的 NavigableString 对象，其输出的内容不包括注释符号。"
   ],
   "metadata": {
    "collapsed": false
   }
  },
  {
   "cell_type": "code",
   "execution_count": 14,
   "outputs": [
    {
     "name": "stdout",
     "text": [
      "The Dormouse's story\n[document]\n<class 'str'>\n{}\n<a class=\"sister\" href=\"http://example.com/elsie\" id=\"link1\"><!-- Elsie --></a>\n Elsie \n<class 'bs4.element.Comment'>\n"
     ],
     "output_type": "stream"
    }
   ],
   "source": [
    "html = \"\"\"\n",
    "<html><head><title>The Dormouse's story</title></head>\n",
    "<body>\n",
    "<p class=\"title\" name=\"dromouse\"><b>The Dormouse's story</b></p>\n",
    "<p class=\"story\">Once upon a time there were three little sisters; and their names were\n",
    "<a href=\"http://example.com/elsie\" class=\"sister\" id=\"link1\"><!-- Elsie --></a>,\n",
    "<a href=\"http://example.com/lacie\" class=\"sister\" id=\"link2\">Lacie</a> and\n",
    "<a href=\"http://example.com/tillie\" class=\"sister\" id=\"link3\">Tillie</a>;\n",
    "and they lived at the bottom of a well.</p>\n",
    "<p class=\"story\">...</p>\n",
    "\"\"\"\n",
    "#创建 Beautiful Soup 对象\n",
    "bs = BeautifulSoup(html)\n",
    "\n",
    "# 取标签内部的文字\n",
    "print(bs.p.string)\n",
    "\n",
    "print(bs.name)\n",
    "print(type(bs.name))\n",
    "print(bs.attrs)\n",
    "\n",
    "print(bs.a)\n",
    "print(bs.a.string)\n",
    "print(type(bs.a.string))"
   ],
   "metadata": {
    "collapsed": false,
    "pycharm": {
     "name": "#%%\n",
     "is_executing": false
    }
   }
  },
  {
   "cell_type": "code",
   "execution_count": 16,
   "outputs": [
    {
     "name": "stdout",
     "text": [
      "None\n<list_iterator object at 0x0000024046193128>\n<title>The Dormouse's story</title>\n===================================\n<html><head><title>The Dormouse's story</title></head>\n<body>\n<p class=\"title\" name=\"dromouse\"><b>The Dormouse's story</b></p>\n<p class=\"story\">Once upon a time there were three little sisters; and their names were\n<a class=\"sister\" href=\"http://example.com/elsie\" id=\"link1\"><!-- Elsie --></a>,\n<a class=\"sister\" href=\"http://example.com/lacie\" id=\"link2\">Lacie</a> and\n<a class=\"sister\" href=\"http://example.com/tillie\" id=\"link3\">Tillie</a>;\nand they lived at the bottom of a well.</p>\n<p class=\"story\">...</p>\n</body></html>\n======\n<head><title>The Dormouse's story</title></head>\n======\n<title>The Dormouse's story</title>\n======\nThe Dormouse's story\n======\n\n\n======\n<body>\n<p class=\"title\" name=\"dromouse\"><b>The Dormouse's story</b></p>\n<p class=\"story\">Once upon a time there were three little sisters; and their names were\n<a class=\"sister\" href=\"http://example.com/elsie\" id=\"link1\"><!-- Elsie --></a>,\n<a class=\"sister\" href=\"http://example.com/lacie\" id=\"link2\">Lacie</a> and\n<a class=\"sister\" href=\"http://example.com/tillie\" id=\"link3\">Tillie</a>;\nand they lived at the bottom of a well.</p>\n<p class=\"story\">...</p>\n</body>\n======\n\n\n======\n<p class=\"title\" name=\"dromouse\"><b>The Dormouse's story</b></p>\n======\n<b>The Dormouse's story</b>\n======\nThe Dormouse's story\n======\n\n\n======\n<p class=\"story\">Once upon a time there were three little sisters; and their names were\n<a class=\"sister\" href=\"http://example.com/elsie\" id=\"link1\"><!-- Elsie --></a>,\n<a class=\"sister\" href=\"http://example.com/lacie\" id=\"link2\">Lacie</a> and\n<a class=\"sister\" href=\"http://example.com/tillie\" id=\"link3\">Tillie</a>;\nand they lived at the bottom of a well.</p>\n======\nOnce upon a time there were three little sisters; and their names were\n\n======\n<a class=\"sister\" href=\"http://example.com/elsie\" id=\"link1\"><!-- Elsie --></a>\n======\n Elsie \n======\n,\n\n======\n<a class=\"sister\" href=\"http://example.com/lacie\" id=\"link2\">Lacie</a>\n======\nLacie\n======\n and\n\n======\n<a class=\"sister\" href=\"http://example.com/tillie\" id=\"link3\">Tillie</a>\n======\nTillie\n======\n;\nand they lived at the bottom of a well.\n======\n\n\n======\n<p class=\"story\">...</p>\n======\n...\n======\n\n\n======\n"
     ],
     "output_type": "stream"
    }
   ],
   "source": [
    "# 遍历文档树\n",
    "\n",
    "html = \"\"\"\n",
    "<html><head><title>The Dormouse's story</title></head>\n",
    "<body>\n",
    "<p class=\"title\" name=\"dromouse\"><b>The Dormouse's story</b></p>\n",
    "<p class=\"story\">Once upon a time there were three little sisters; and their names were\n",
    "<a href=\"http://example.com/elsie\" class=\"sister\" id=\"link1\"><!-- Elsie --></a>,\n",
    "<a href=\"http://example.com/lacie\" class=\"sister\" id=\"link2\">Lacie</a> and\n",
    "<a href=\"http://example.com/tillie\" class=\"sister\" id=\"link3\">Tillie</a>;\n",
    "and they lived at the bottom of a well.</p>\n",
    "<p class=\"story\">...</p>\n",
    "\"\"\"\n",
    "#创建 Beautiful Soup 对象\n",
    "bs = BeautifulSoup(html)\n",
    "\n",
    "# 取直接子节点 : .content  \\  .children\n",
    "print(bs.head.content)\n",
    "print(bs.head.children)\n",
    "for list in bs.head.children:\n",
    "    print(list)\n",
    "print(\"===================================\")\n",
    "    \n",
    "# 所有子孙节点: .descendants 属性\n",
    "for list in bs.descendants:\n",
    "    print(list)\n",
    "    print(\"======\")"
   ],
   "metadata": {
    "collapsed": false,
    "pycharm": {
     "name": "#%%\n",
     "is_executing": false
    }
   }
  },
  {
   "cell_type": "markdown",
   "source": [
    "**搜索文档树**\n",
    "\n",
    "1.find_all(name, attrs, recursive, text, **kwargs)\n",
    "\n",
    "    name 参数可以查找所有名字为 name 的tag,字符串对象会被自动忽略掉\n",
    "        A.传字符串：查找所有与字符串完整匹配的内容\n",
    "        B.传正则表达式:通过正则表达式的 match() 来匹配内容\n",
    "        C.传列表:将与列表中任一元素匹配的内容返回\n",
    "    text 参数:搜搜文档中的字符串内容，与 name 参数的可选值一样, text 参数接受 字符串 , 正则表达式 , 列表\n"
   ],
   "metadata": {
    "collapsed": false,
    "pycharm": {
     "name": "#%% md\n"
    }
   }
  },
  {
   "cell_type": "code",
   "execution_count": 20,
   "outputs": [
    {
     "name": "stdout",
     "text": [
      "[<a class=\"sister\" href=\"http://example.com/elsie\" id=\"link1\"><!-- Elsie --></a>, <a class=\"sister\" href=\"http://example.com/lacie\" id=\"link2\">Lacie</a>, <a class=\"sister\" href=\"http://example.com/tillie\" id=\"link3\">Tillie</a>]\nbody\nb\n[<b>The Dormouse's story</b>, <a class=\"sister\" href=\"http://example.com/elsie\" id=\"link1\"><!-- Elsie --></a>, <a class=\"sister\" href=\"http://example.com/lacie\" id=\"link2\">Lacie</a>, <a class=\"sister\" href=\"http://example.com/tillie\" id=\"link3\">Tillie</a>]\n[<a class=\"sister\" href=\"http://example.com/lacie\" id=\"link2\">Lacie</a>]\n['Lacie']\n['Lacie', 'Tillie']\n[\"The Dormouse's story\", \"The Dormouse's story\"]\n"
     ],
     "output_type": "stream"
    }
   ],
   "source": [
    "import re\n",
    "html = \"\"\"\n",
    "<html><head><title>The Dormouse's story</title></head>\n",
    "<body>\n",
    "<p class=\"title\" name=\"dromouse\"><b>The Dormouse's story</b></p>\n",
    "<p class=\"story\">Once upon a time there were three little sisters; and their names were\n",
    "<a href=\"http://example.com/elsie\" class=\"sister\" id=\"link1\"><!-- Elsie --></a>,\n",
    "<a href=\"http://example.com/lacie\" class=\"sister\" id=\"link2\">Lacie</a> and\n",
    "<a href=\"http://example.com/tillie\" class=\"sister\" id=\"link3\">Tillie</a>;\n",
    "and they lived at the bottom of a well.</p>\n",
    "<p class=\"story\">...</p>\n",
    "\"\"\"\n",
    "#创建 Beautiful Soup 对象\n",
    "bs = BeautifulSoup(html)\n",
    "#传字符串\n",
    "print(bs.find_all('a'))\n",
    "\n",
    "#传正则表达式\n",
    "for tag in bs.find_all(re.compile('^b')):\n",
    "    print(tag.name)\n",
    "\n",
    "#传列表\n",
    "print(bs.find_all(['a','b']))\n",
    "#keyword 参数\n",
    "print(bs.find_all(id=\"link2\"))\n",
    "# text参数\n",
    "print(bs.find_all(text='Lacie'))\n",
    "print(bs.find_all(text=['Lacie','Tillie']))\n",
    "print(bs.find_all(text=re.compile('Dormouse')))"
   ],
   "metadata": {
    "collapsed": false,
    "pycharm": {
     "name": "#%%\n",
     "is_executing": false
    }
   }
  },
  {
   "cell_type": "markdown",
   "source": [
    "**CSS选择器**\n",
    "\n",
    "写 CSS 时，标签名不加任何修饰，类名前加.，id名前加#\n",
    "\n",
    "在这里我们也可以利用类似的方法来筛选元素，用到的方法是 soup.select()，返回类型是 list\n"
   ],
   "metadata": {
    "collapsed": false
   }
  },
  {
   "cell_type": "code",
   "execution_count": 21,
   "outputs": [
    {
     "name": "stdout",
     "text": [
      "[<title>The Dormouse's story</title>]\n[<a class=\"sister\" href=\"http://example.com/elsie\" id=\"link1\"><!-- Elsie --></a>, <a class=\"sister\" href=\"http://example.com/lacie\" id=\"link2\">Lacie</a>, <a class=\"sister\" href=\"http://example.com/tillie\" id=\"link3\">Tillie</a>]\n[]\n[<a class=\"sister\" href=\"http://example.com/elsie\" id=\"link1\"><!-- Elsie --></a>]\n[<title>The Dormouse's story</title>]\n[<a class=\"sister\" href=\"http://example.com/elsie\" id=\"link1\"><!-- Elsie --></a>, <a class=\"sister\" href=\"http://example.com/lacie\" id=\"link2\">Lacie</a>, <a class=\"sister\" href=\"http://example.com/tillie\" id=\"link3\">Tillie</a>]\n[<a class=\"sister\" href=\"http://example.com/elsie\" id=\"link1\"><!-- Elsie --></a>]\n<class 'list'>\nThe Dormouse's story\nThe Dormouse's story\n"
     ],
     "output_type": "stream"
    }
   ],
   "source": [
    "html = \"\"\"\n",
    "<html><head><title>The Dormouse's story</title></head>\n",
    "<body>\n",
    "<p class=\"title\" name=\"dromouse\"><b>The Dormouse's story</b></p>\n",
    "<p class=\"story\">Once upon a time there were three little sisters; and their names were\n",
    "<a href=\"http://example.com/elsie\" class=\"sister\" id=\"link1\"><!-- Elsie --></a>,\n",
    "<a href=\"http://example.com/lacie\" class=\"sister\" id=\"link2\">Lacie</a> and\n",
    "<a href=\"http://example.com/tillie\" class=\"sister\" id=\"link3\">Tillie</a>;\n",
    "and they lived at the bottom of a well.</p>\n",
    "<p class=\"story\">...</p>\n",
    "\"\"\"\n",
    "#创建 Beautiful Soup 对象\n",
    "bs = BeautifulSoup(html)\n",
    "# 通过标签名查找\n",
    "print(bs.select('title'))\n",
    "\n",
    "#通过类名查找\n",
    "print(bs.select('.sister'))\n",
    "\n",
    "#通过 id 名查找\n",
    "print(bs.select('link1'))\n",
    "\n",
    "#组合查找,空格分开\n",
    "print(bs.select('p #link1'))\n",
    "print(bs.select('head > title'))\n",
    "\n",
    "#属性查找:加入属性元素，属性需要用中括号括起来，注意属性和标签属于同一节点，\n",
    "# 所以中间不能加空格，否则会无法匹配到。\n",
    "print(bs.select('a[class=\"sister\"]'))\n",
    "print(bs.select('p a[href=\"http://example.com/elsie\"]'))\n",
    "\n",
    "#select 方法返回的结果都是列表形式，可以遍历形式输出，然后用 get_text() 方法来获取它的内容。\n",
    "soup = BeautifulSoup(html, 'lxml')\n",
    "print(type(soup.select('title')))\n",
    "print(soup.select('title')[0].get_text())\n",
    "\n",
    "for title in soup.select('title'):\n",
    "    print(title.get_text())"
   ],
   "metadata": {
    "collapsed": false,
    "pycharm": {
     "name": "#%%\n",
     "is_executing": false
    }
   }
  }
 ],
 "metadata": {
  "kernelspec": {
   "display_name": "Python 3",
   "language": "python",
   "name": "python3"
  },
  "language_info": {
   "codemirror_mode": {
    "name": "ipython",
    "version": 2
   },
   "file_extension": ".py",
   "mimetype": "text/x-python",
   "name": "python",
   "nbconvert_exporter": "python",
   "pygments_lexer": "ipython2",
   "version": "2.7.6"
  },
  "pycharm": {
   "stem_cell": {
    "cell_type": "raw",
    "source": [],
    "metadata": {
     "collapsed": false
    }
   }
  }
 },
 "nbformat": 4,
 "nbformat_minor": 0
}